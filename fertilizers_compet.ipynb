{
 "cells": [
  {
   "cell_type": "code",
   "execution_count": 1,
   "metadata": {},
   "outputs": [],
   "source": [
    "import pandas as pd\n",
    "import seaborn as sb \n",
    "import xgboost as xg\n",
    "import numpy as np\n",
    "import lightgbm as lgb\n",
    "\n",
    "from sklearn.preprocessing import OneHotEncoder, LabelEncoder\n",
    "from sklearn.preprocessing import StandardScaler\n",
    "from sklearn.preprocessing import PolynomialFeatures\n",
    "\n",
    "from sklearn.linear_model import LogisticRegression\n",
    "from sklearn.svm import SVC\n",
    "from sklearn import metrics\n",
    "from sklearn.model_selection import train_test_split\n",
    "from sklearn.ensemble import StackingClassifier\n",
    "\n",
    "from sklearn.model_selection import cross_val_score\n",
    "from sklearn.model_selection import RandomizedSearchCV\n",
    "from sklearn.model_selection import KFold\n",
    "from sklearn.model_selection import StratifiedKFold\n",
    "\n",
    "from sklearn.neighbors import KNeighborsClassifier\n",
    "from sklearn.tree import DecisionTreeClassifier\n",
    "from sklearn.metrics import classification_report\n",
    "from sklearn.ensemble import RandomForestClassifier\n",
    "\n",
    "from scipy.stats import randint, uniform"
   ]
  },
  {
   "cell_type": "code",
   "execution_count": null,
   "metadata": {},
   "outputs": [],
   "source": [
    "test = pd.read_csv('data/test.csv')"
   ]
  },
  {
   "cell_type": "code",
   "execution_count": 12,
   "metadata": {},
   "outputs": [
    {
     "data": {
      "text/html": [
       "<div>\n",
       "<style scoped>\n",
       "    .dataframe tbody tr th:only-of-type {\n",
       "        vertical-align: middle;\n",
       "    }\n",
       "\n",
       "    .dataframe tbody tr th {\n",
       "        vertical-align: top;\n",
       "    }\n",
       "\n",
       "    .dataframe thead th {\n",
       "        text-align: right;\n",
       "    }\n",
       "</style>\n",
       "<table border=\"1\" class=\"dataframe\">\n",
       "  <thead>\n",
       "    <tr style=\"text-align: right;\">\n",
       "      <th></th>\n",
       "      <th>Temparature</th>\n",
       "      <th>Humidity</th>\n",
       "      <th>Moisture</th>\n",
       "      <th>Soil Type</th>\n",
       "      <th>Crop Type</th>\n",
       "      <th>Nitrogen</th>\n",
       "      <th>Potassium</th>\n",
       "      <th>Phosphorous</th>\n",
       "      <th>Fertilizer Name</th>\n",
       "    </tr>\n",
       "    <tr>\n",
       "      <th>id</th>\n",
       "      <th></th>\n",
       "      <th></th>\n",
       "      <th></th>\n",
       "      <th></th>\n",
       "      <th></th>\n",
       "      <th></th>\n",
       "      <th></th>\n",
       "      <th></th>\n",
       "      <th></th>\n",
       "    </tr>\n",
       "  </thead>\n",
       "  <tbody>\n",
       "    <tr>\n",
       "      <th>0</th>\n",
       "      <td>37</td>\n",
       "      <td>70</td>\n",
       "      <td>36</td>\n",
       "      <td>Clayey</td>\n",
       "      <td>Sugarcane</td>\n",
       "      <td>36</td>\n",
       "      <td>4</td>\n",
       "      <td>5</td>\n",
       "      <td>28-28</td>\n",
       "    </tr>\n",
       "    <tr>\n",
       "      <th>1</th>\n",
       "      <td>27</td>\n",
       "      <td>69</td>\n",
       "      <td>65</td>\n",
       "      <td>Sandy</td>\n",
       "      <td>Millets</td>\n",
       "      <td>30</td>\n",
       "      <td>6</td>\n",
       "      <td>18</td>\n",
       "      <td>28-28</td>\n",
       "    </tr>\n",
       "    <tr>\n",
       "      <th>2</th>\n",
       "      <td>29</td>\n",
       "      <td>63</td>\n",
       "      <td>32</td>\n",
       "      <td>Sandy</td>\n",
       "      <td>Millets</td>\n",
       "      <td>24</td>\n",
       "      <td>12</td>\n",
       "      <td>16</td>\n",
       "      <td>17-17-17</td>\n",
       "    </tr>\n",
       "    <tr>\n",
       "      <th>3</th>\n",
       "      <td>35</td>\n",
       "      <td>62</td>\n",
       "      <td>54</td>\n",
       "      <td>Sandy</td>\n",
       "      <td>Barley</td>\n",
       "      <td>39</td>\n",
       "      <td>12</td>\n",
       "      <td>4</td>\n",
       "      <td>10-26-26</td>\n",
       "    </tr>\n",
       "    <tr>\n",
       "      <th>4</th>\n",
       "      <td>35</td>\n",
       "      <td>58</td>\n",
       "      <td>43</td>\n",
       "      <td>Red</td>\n",
       "      <td>Paddy</td>\n",
       "      <td>37</td>\n",
       "      <td>2</td>\n",
       "      <td>16</td>\n",
       "      <td>DAP</td>\n",
       "    </tr>\n",
       "  </tbody>\n",
       "</table>\n",
       "</div>"
      ],
      "text/plain": [
       "    Temparature  Humidity  Moisture Soil Type  Crop Type  Nitrogen  Potassium  \\\n",
       "id                                                                              \n",
       "0            37        70        36    Clayey  Sugarcane        36          4   \n",
       "1            27        69        65     Sandy    Millets        30          6   \n",
       "2            29        63        32     Sandy    Millets        24         12   \n",
       "3            35        62        54     Sandy     Barley        39         12   \n",
       "4            35        58        43       Red      Paddy        37          2   \n",
       "\n",
       "    Phosphorous Fertilizer Name  \n",
       "id                               \n",
       "0             5           28-28  \n",
       "1            18           28-28  \n",
       "2            16        17-17-17  \n",
       "3             4        10-26-26  \n",
       "4            16             DAP  "
      ]
     },
     "execution_count": 12,
     "metadata": {},
     "output_type": "execute_result"
    }
   ],
   "source": [
    "train = pd.read_csv('data/train.csv', index_col=0)\n",
    "train.head()"
   ]
  },
  {
   "cell_type": "markdown",
   "metadata": {},
   "source": [
    "Сразу можно заметить, что есть категориальные признаки, но их немного. Таргет - 'Fertilizer Name'."
   ]
  },
  {
   "cell_type": "code",
   "execution_count": 13,
   "metadata": {},
   "outputs": [
    {
     "data": {
      "text/html": [
       "<div>\n",
       "<style scoped>\n",
       "    .dataframe tbody tr th:only-of-type {\n",
       "        vertical-align: middle;\n",
       "    }\n",
       "\n",
       "    .dataframe tbody tr th {\n",
       "        vertical-align: top;\n",
       "    }\n",
       "\n",
       "    .dataframe thead th {\n",
       "        text-align: right;\n",
       "    }\n",
       "</style>\n",
       "<table border=\"1\" class=\"dataframe\">\n",
       "  <thead>\n",
       "    <tr style=\"text-align: right;\">\n",
       "      <th></th>\n",
       "      <th>Temparature</th>\n",
       "      <th>Humidity</th>\n",
       "      <th>Moisture</th>\n",
       "      <th>Soil Type</th>\n",
       "      <th>Crop Type</th>\n",
       "      <th>Nitrogen</th>\n",
       "      <th>Potassium</th>\n",
       "      <th>Phosphorous</th>\n",
       "      <th>Fertilizer Name</th>\n",
       "    </tr>\n",
       "  </thead>\n",
       "  <tbody>\n",
       "    <tr>\n",
       "      <th>0</th>\n",
       "      <td>32</td>\n",
       "      <td>51</td>\n",
       "      <td>41</td>\n",
       "      <td>Red</td>\n",
       "      <td>Ground Nuts</td>\n",
       "      <td>7</td>\n",
       "      <td>3</td>\n",
       "      <td>19</td>\n",
       "      <td>14-35-14</td>\n",
       "    </tr>\n",
       "    <tr>\n",
       "      <th>1</th>\n",
       "      <td>35</td>\n",
       "      <td>58</td>\n",
       "      <td>35</td>\n",
       "      <td>Black</td>\n",
       "      <td>Cotton</td>\n",
       "      <td>4</td>\n",
       "      <td>14</td>\n",
       "      <td>16</td>\n",
       "      <td>Urea</td>\n",
       "    </tr>\n",
       "    <tr>\n",
       "      <th>2</th>\n",
       "      <td>27</td>\n",
       "      <td>55</td>\n",
       "      <td>43</td>\n",
       "      <td>Sandy</td>\n",
       "      <td>Sugarcane</td>\n",
       "      <td>28</td>\n",
       "      <td>0</td>\n",
       "      <td>17</td>\n",
       "      <td>20-20</td>\n",
       "    </tr>\n",
       "    <tr>\n",
       "      <th>3</th>\n",
       "      <td>33</td>\n",
       "      <td>56</td>\n",
       "      <td>56</td>\n",
       "      <td>Loamy</td>\n",
       "      <td>Ground Nuts</td>\n",
       "      <td>37</td>\n",
       "      <td>5</td>\n",
       "      <td>24</td>\n",
       "      <td>28-28</td>\n",
       "    </tr>\n",
       "    <tr>\n",
       "      <th>4</th>\n",
       "      <td>32</td>\n",
       "      <td>70</td>\n",
       "      <td>60</td>\n",
       "      <td>Red</td>\n",
       "      <td>Ground Nuts</td>\n",
       "      <td>4</td>\n",
       "      <td>6</td>\n",
       "      <td>9</td>\n",
       "      <td>14-35-14</td>\n",
       "    </tr>\n",
       "  </tbody>\n",
       "</table>\n",
       "</div>"
      ],
      "text/plain": [
       "   Temparature  Humidity  Moisture Soil Type    Crop Type  Nitrogen  \\\n",
       "0           32        51        41       Red  Ground Nuts         7   \n",
       "1           35        58        35     Black       Cotton         4   \n",
       "2           27        55        43     Sandy    Sugarcane        28   \n",
       "3           33        56        56     Loamy  Ground Nuts        37   \n",
       "4           32        70        60       Red  Ground Nuts         4   \n",
       "\n",
       "   Potassium  Phosphorous Fertilizer Name  \n",
       "0          3           19        14-35-14  \n",
       "1         14           16            Urea  \n",
       "2          0           17           20-20  \n",
       "3          5           24           28-28  \n",
       "4          6            9        14-35-14  "
      ]
     },
     "execution_count": 13,
     "metadata": {},
     "output_type": "execute_result"
    }
   ],
   "source": [
    "origin = pd.read_csv('data/Fertilizer Prediction.csv')\n",
    "origin.head()"
   ]
  },
  {
   "cell_type": "code",
   "execution_count": 9,
   "metadata": {},
   "outputs": [
    {
     "data": {
      "text/plain": [
       "(100000, 9)"
      ]
     },
     "execution_count": 9,
     "metadata": {},
     "output_type": "execute_result"
    }
   ],
   "source": [
    "origin.shape"
   ]
  },
  {
   "cell_type": "code",
   "execution_count": 11,
   "metadata": {},
   "outputs": [
    {
     "data": {
      "text/plain": [
       "(750000, 9)"
      ]
     },
     "execution_count": 11,
     "metadata": {},
     "output_type": "execute_result"
    }
   ],
   "source": [
    "train.shape"
   ]
  },
  {
   "cell_type": "markdown",
   "metadata": {},
   "source": [
    "Оба датасета будут использоваться в качестве обучающих, поэтому важно, чтобы они имели одинаковое количество столбцов (признаков)."
   ]
  },
  {
   "cell_type": "code",
   "execution_count": 12,
   "metadata": {},
   "outputs": [
    {
     "data": {
      "text/plain": [
       "Temparature        False\n",
       "Humidity           False\n",
       "Moisture           False\n",
       "Soil Type          False\n",
       "Crop Type          False\n",
       "Nitrogen           False\n",
       "Potassium          False\n",
       "Phosphorous        False\n",
       "Fertilizer Name    False\n",
       "dtype: bool"
      ]
     },
     "execution_count": 12,
     "metadata": {},
     "output_type": "execute_result"
    }
   ],
   "source": [
    "origin.isna().any()"
   ]
  },
  {
   "cell_type": "code",
   "execution_count": 54,
   "metadata": {},
   "outputs": [
    {
     "data": {
      "text/plain": [
       "Temparature        False\n",
       "Humidity           False\n",
       "Moisture           False\n",
       "Soil Type          False\n",
       "Crop Type          False\n",
       "Nitrogen           False\n",
       "Potassium          False\n",
       "Phosphorous        False\n",
       "Fertilizer Name    False\n",
       "dtype: bool"
      ]
     },
     "execution_count": 54,
     "metadata": {},
     "output_type": "execute_result"
    }
   ],
   "source": [
    "train.isna().any()"
   ]
  },
  {
   "cell_type": "markdown",
   "metadata": {},
   "source": [
    "В данных отсутвуют пропуски."
   ]
  },
  {
   "cell_type": "code",
   "execution_count": 13,
   "metadata": {},
   "outputs": [
    {
     "name": "stdout",
     "output_type": "stream",
     "text": [
      "<class 'pandas.core.frame.DataFrame'>\n",
      "RangeIndex: 100000 entries, 0 to 99999\n",
      "Data columns (total 9 columns):\n",
      " #   Column           Non-Null Count   Dtype \n",
      "---  ------           --------------   ----- \n",
      " 0   Temparature      100000 non-null  int64 \n",
      " 1   Humidity         100000 non-null  int64 \n",
      " 2   Moisture         100000 non-null  int64 \n",
      " 3   Soil Type        100000 non-null  object\n",
      " 4   Crop Type        100000 non-null  object\n",
      " 5   Nitrogen         100000 non-null  int64 \n",
      " 6   Potassium        100000 non-null  int64 \n",
      " 7   Phosphorous      100000 non-null  int64 \n",
      " 8   Fertilizer Name  100000 non-null  object\n",
      "dtypes: int64(6), object(3)\n",
      "memory usage: 6.9+ MB\n"
     ]
    }
   ],
   "source": [
    "origin.info()"
   ]
  },
  {
   "cell_type": "code",
   "execution_count": 55,
   "metadata": {},
   "outputs": [
    {
     "name": "stdout",
     "output_type": "stream",
     "text": [
      "<class 'pandas.core.frame.DataFrame'>\n",
      "Int64Index: 750000 entries, 0 to 749999\n",
      "Data columns (total 9 columns):\n",
      " #   Column           Non-Null Count   Dtype \n",
      "---  ------           --------------   ----- \n",
      " 0   Temparature      750000 non-null  int64 \n",
      " 1   Humidity         750000 non-null  int64 \n",
      " 2   Moisture         750000 non-null  int64 \n",
      " 3   Soil Type        750000 non-null  object\n",
      " 4   Crop Type        750000 non-null  object\n",
      " 5   Nitrogen         750000 non-null  int64 \n",
      " 6   Potassium        750000 non-null  int64 \n",
      " 7   Phosphorous      750000 non-null  int64 \n",
      " 8   Fertilizer Name  750000 non-null  object\n",
      "dtypes: int64(6), object(3)\n",
      "memory usage: 57.2+ MB\n"
     ]
    }
   ],
   "source": [
    "train.info()"
   ]
  },
  {
   "cell_type": "markdown",
   "metadata": {},
   "source": [
    "Всего два категориальных признака: 'Soil Type', 'Crop Type'."
   ]
  },
  {
   "cell_type": "code",
   "execution_count": 56,
   "metadata": {},
   "outputs": [
    {
     "data": {
      "text/plain": [
       "Sandy     156710\n",
       "Black     150956\n",
       "Clayey    148382\n",
       "Red       148102\n",
       "Loamy     145850\n",
       "Name: Soil Type, dtype: int64"
      ]
     },
     "execution_count": 56,
     "metadata": {},
     "output_type": "execute_result"
    }
   ],
   "source": [
    "train['Soil Type'].value_counts()"
   ]
  },
  {
   "cell_type": "code",
   "execution_count": 57,
   "metadata": {},
   "outputs": [
    {
     "data": {
      "text/plain": [
       "Paddy          85754\n",
       "Pulses         78180\n",
       "Cotton         69171\n",
       "Tobacco        68000\n",
       "Wheat          66628\n",
       "Millets        65291\n",
       "Barley         65045\n",
       "Sugarcane      64269\n",
       "Oil seeds      64184\n",
       "Maize          62569\n",
       "Ground Nuts    60909\n",
       "Name: Crop Type, dtype: int64"
      ]
     },
     "execution_count": 57,
     "metadata": {},
     "output_type": "execute_result"
    }
   ],
   "source": [
    "train['Crop Type'].value_counts()"
   ]
  },
  {
   "cell_type": "markdown",
   "metadata": {},
   "source": [
    "Можно заметить, что в данных признаках нет дисбаланса."
   ]
  },
  {
   "cell_type": "code",
   "execution_count": 58,
   "metadata": {},
   "outputs": [
    {
     "data": {
      "text/plain": [
       "14-35-14    114436\n",
       "10-26-26    113887\n",
       "17-17-17    112453\n",
       "28-28       111158\n",
       "20-20       110889\n",
       "DAP          94860\n",
       "Urea         92317\n",
       "Name: Fertilizer Name, dtype: int64"
      ]
     },
     "execution_count": 58,
     "metadata": {},
     "output_type": "execute_result"
    }
   ],
   "source": [
    "train['Fertilizer Name'].value_counts()"
   ]
  },
  {
   "cell_type": "code",
   "execution_count": 14,
   "metadata": {},
   "outputs": [
    {
     "data": {
      "text/plain": [
       "14-35-14    14492\n",
       "10-26-26    14378\n",
       "Urea        14325\n",
       "28-28       14232\n",
       "DAP         14220\n",
       "20-20       14181\n",
       "17-17-17    14172\n",
       "Name: Fertilizer Name, dtype: int64"
      ]
     },
     "execution_count": 14,
     "metadata": {},
     "output_type": "execute_result"
    }
   ],
   "source": [
    "origin['Fertilizer Name'].value_counts()"
   ]
  },
  {
   "cell_type": "markdown",
   "metadata": {},
   "source": [
    "По целевой переменной дисбаланса классов не наблюдается. Это говорит о том, что при использовании кросс-валидации нет необходимости соблюдать распределение классов. Также нет необходимости использовать различные функции для весов в функции потерь, учитывающих распределение классов."
   ]
  },
  {
   "cell_type": "code",
   "execution_count": 14,
   "metadata": {},
   "outputs": [
    {
     "data": {
      "text/html": [
       "<div>\n",
       "<style scoped>\n",
       "    .dataframe tbody tr th:only-of-type {\n",
       "        vertical-align: middle;\n",
       "    }\n",
       "\n",
       "    .dataframe tbody tr th {\n",
       "        vertical-align: top;\n",
       "    }\n",
       "\n",
       "    .dataframe thead th {\n",
       "        text-align: right;\n",
       "    }\n",
       "</style>\n",
       "<table border=\"1\" class=\"dataframe\">\n",
       "  <thead>\n",
       "    <tr style=\"text-align: right;\">\n",
       "      <th></th>\n",
       "      <th>Temparature</th>\n",
       "      <th>Humidity</th>\n",
       "      <th>Moisture</th>\n",
       "      <th>Nitrogen</th>\n",
       "      <th>Potassium</th>\n",
       "      <th>Phosphorous</th>\n",
       "    </tr>\n",
       "  </thead>\n",
       "  <tbody>\n",
       "    <tr>\n",
       "      <th>count</th>\n",
       "      <td>750000.000000</td>\n",
       "      <td>750000.000000</td>\n",
       "      <td>750000.000000</td>\n",
       "      <td>750000.000000</td>\n",
       "      <td>750000.000000</td>\n",
       "      <td>750000.000000</td>\n",
       "    </tr>\n",
       "    <tr>\n",
       "      <th>mean</th>\n",
       "      <td>31.503565</td>\n",
       "      <td>61.038912</td>\n",
       "      <td>45.184147</td>\n",
       "      <td>23.093808</td>\n",
       "      <td>9.478296</td>\n",
       "      <td>21.073227</td>\n",
       "    </tr>\n",
       "    <tr>\n",
       "      <th>std</th>\n",
       "      <td>4.025574</td>\n",
       "      <td>6.647695</td>\n",
       "      <td>11.794594</td>\n",
       "      <td>11.216125</td>\n",
       "      <td>5.765622</td>\n",
       "      <td>12.346831</td>\n",
       "    </tr>\n",
       "    <tr>\n",
       "      <th>min</th>\n",
       "      <td>25.000000</td>\n",
       "      <td>50.000000</td>\n",
       "      <td>25.000000</td>\n",
       "      <td>4.000000</td>\n",
       "      <td>0.000000</td>\n",
       "      <td>0.000000</td>\n",
       "    </tr>\n",
       "    <tr>\n",
       "      <th>25%</th>\n",
       "      <td>28.000000</td>\n",
       "      <td>55.000000</td>\n",
       "      <td>35.000000</td>\n",
       "      <td>13.000000</td>\n",
       "      <td>4.000000</td>\n",
       "      <td>10.000000</td>\n",
       "    </tr>\n",
       "    <tr>\n",
       "      <th>50%</th>\n",
       "      <td>32.000000</td>\n",
       "      <td>61.000000</td>\n",
       "      <td>45.000000</td>\n",
       "      <td>23.000000</td>\n",
       "      <td>9.000000</td>\n",
       "      <td>21.000000</td>\n",
       "    </tr>\n",
       "    <tr>\n",
       "      <th>75%</th>\n",
       "      <td>35.000000</td>\n",
       "      <td>67.000000</td>\n",
       "      <td>55.000000</td>\n",
       "      <td>33.000000</td>\n",
       "      <td>14.000000</td>\n",
       "      <td>32.000000</td>\n",
       "    </tr>\n",
       "    <tr>\n",
       "      <th>max</th>\n",
       "      <td>38.000000</td>\n",
       "      <td>72.000000</td>\n",
       "      <td>65.000000</td>\n",
       "      <td>42.000000</td>\n",
       "      <td>19.000000</td>\n",
       "      <td>42.000000</td>\n",
       "    </tr>\n",
       "  </tbody>\n",
       "</table>\n",
       "</div>"
      ],
      "text/plain": [
       "         Temparature       Humidity       Moisture       Nitrogen  \\\n",
       "count  750000.000000  750000.000000  750000.000000  750000.000000   \n",
       "mean       31.503565      61.038912      45.184147      23.093808   \n",
       "std         4.025574       6.647695      11.794594      11.216125   \n",
       "min        25.000000      50.000000      25.000000       4.000000   \n",
       "25%        28.000000      55.000000      35.000000      13.000000   \n",
       "50%        32.000000      61.000000      45.000000      23.000000   \n",
       "75%        35.000000      67.000000      55.000000      33.000000   \n",
       "max        38.000000      72.000000      65.000000      42.000000   \n",
       "\n",
       "           Potassium    Phosphorous  \n",
       "count  750000.000000  750000.000000  \n",
       "mean        9.478296      21.073227  \n",
       "std         5.765622      12.346831  \n",
       "min         0.000000       0.000000  \n",
       "25%         4.000000      10.000000  \n",
       "50%         9.000000      21.000000  \n",
       "75%        14.000000      32.000000  \n",
       "max        19.000000      42.000000  "
      ]
     },
     "execution_count": 14,
     "metadata": {},
     "output_type": "execute_result"
    }
   ],
   "source": [
    "train.describe()"
   ]
  },
  {
   "cell_type": "code",
   "execution_count": 15,
   "metadata": {},
   "outputs": [
    {
     "data": {
      "text/html": [
       "<div>\n",
       "<style scoped>\n",
       "    .dataframe tbody tr th:only-of-type {\n",
       "        vertical-align: middle;\n",
       "    }\n",
       "\n",
       "    .dataframe tbody tr th {\n",
       "        vertical-align: top;\n",
       "    }\n",
       "\n",
       "    .dataframe thead th {\n",
       "        text-align: right;\n",
       "    }\n",
       "</style>\n",
       "<table border=\"1\" class=\"dataframe\">\n",
       "  <thead>\n",
       "    <tr style=\"text-align: right;\">\n",
       "      <th></th>\n",
       "      <th>Temparature</th>\n",
       "      <th>Humidity</th>\n",
       "      <th>Moisture</th>\n",
       "      <th>Nitrogen</th>\n",
       "      <th>Potassium</th>\n",
       "      <th>Phosphorous</th>\n",
       "    </tr>\n",
       "  </thead>\n",
       "  <tbody>\n",
       "    <tr>\n",
       "      <th>count</th>\n",
       "      <td>100000.000000</td>\n",
       "      <td>100000.000000</td>\n",
       "      <td>100000.00000</td>\n",
       "      <td>100000.000000</td>\n",
       "      <td>100000.000000</td>\n",
       "      <td>100000.00000</td>\n",
       "    </tr>\n",
       "    <tr>\n",
       "      <th>mean</th>\n",
       "      <td>31.503300</td>\n",
       "      <td>60.985810</td>\n",
       "      <td>45.00344</td>\n",
       "      <td>22.986770</td>\n",
       "      <td>9.472220</td>\n",
       "      <td>21.01348</td>\n",
       "    </tr>\n",
       "    <tr>\n",
       "      <th>std</th>\n",
       "      <td>4.019942</td>\n",
       "      <td>6.651393</td>\n",
       "      <td>11.83871</td>\n",
       "      <td>11.247289</td>\n",
       "      <td>5.768565</td>\n",
       "      <td>12.39118</td>\n",
       "    </tr>\n",
       "    <tr>\n",
       "      <th>min</th>\n",
       "      <td>25.000000</td>\n",
       "      <td>50.000000</td>\n",
       "      <td>25.00000</td>\n",
       "      <td>4.000000</td>\n",
       "      <td>0.000000</td>\n",
       "      <td>0.00000</td>\n",
       "    </tr>\n",
       "    <tr>\n",
       "      <th>25%</th>\n",
       "      <td>28.000000</td>\n",
       "      <td>55.000000</td>\n",
       "      <td>35.00000</td>\n",
       "      <td>13.000000</td>\n",
       "      <td>4.000000</td>\n",
       "      <td>10.00000</td>\n",
       "    </tr>\n",
       "    <tr>\n",
       "      <th>50%</th>\n",
       "      <td>32.000000</td>\n",
       "      <td>61.000000</td>\n",
       "      <td>45.00000</td>\n",
       "      <td>23.000000</td>\n",
       "      <td>9.000000</td>\n",
       "      <td>21.00000</td>\n",
       "    </tr>\n",
       "    <tr>\n",
       "      <th>75%</th>\n",
       "      <td>35.000000</td>\n",
       "      <td>67.000000</td>\n",
       "      <td>55.00000</td>\n",
       "      <td>33.000000</td>\n",
       "      <td>14.000000</td>\n",
       "      <td>32.00000</td>\n",
       "    </tr>\n",
       "    <tr>\n",
       "      <th>max</th>\n",
       "      <td>38.000000</td>\n",
       "      <td>72.000000</td>\n",
       "      <td>65.00000</td>\n",
       "      <td>42.000000</td>\n",
       "      <td>19.000000</td>\n",
       "      <td>42.00000</td>\n",
       "    </tr>\n",
       "  </tbody>\n",
       "</table>\n",
       "</div>"
      ],
      "text/plain": [
       "         Temparature       Humidity      Moisture       Nitrogen  \\\n",
       "count  100000.000000  100000.000000  100000.00000  100000.000000   \n",
       "mean       31.503300      60.985810      45.00344      22.986770   \n",
       "std         4.019942       6.651393      11.83871      11.247289   \n",
       "min        25.000000      50.000000      25.00000       4.000000   \n",
       "25%        28.000000      55.000000      35.00000      13.000000   \n",
       "50%        32.000000      61.000000      45.00000      23.000000   \n",
       "75%        35.000000      67.000000      55.00000      33.000000   \n",
       "max        38.000000      72.000000      65.00000      42.000000   \n",
       "\n",
       "           Potassium   Phosphorous  \n",
       "count  100000.000000  100000.00000  \n",
       "mean        9.472220      21.01348  \n",
       "std         5.768565      12.39118  \n",
       "min         0.000000       0.00000  \n",
       "25%         4.000000      10.00000  \n",
       "50%         9.000000      21.00000  \n",
       "75%        14.000000      32.00000  \n",
       "max        19.000000      42.00000  "
      ]
     },
     "execution_count": 15,
     "metadata": {},
     "output_type": "execute_result"
    }
   ],
   "source": [
    "origin.describe()"
   ]
  },
  {
   "cell_type": "markdown",
   "metadata": {},
   "source": [
    "Если посмотреть на статистики двух датасетов, то: 1. они имеют схожие значения статистик, что говорит о том, что у соответствующих признаков одинаковое распределение. 2. зачастую мода и среднее близки, что говорит о симметричности данных 3. нет каких-то значительных выбросов. Все это говорит о том, что данные не требуют дополнительной работы с выбрасами (удаление, замена в датасете или на этапе построения модели)."
   ]
  },
  {
   "cell_type": "code",
   "execution_count": 7,
   "metadata": {},
   "outputs": [],
   "source": [
    "col_OHE = ['Soil Type','Crop Type']\n",
    "encoder = OneHotEncoder(sparse=False, drop='first')"
   ]
  },
  {
   "cell_type": "code",
   "execution_count": 8,
   "metadata": {},
   "outputs": [
    {
     "data": {
      "text/plain": [
       "array([[1., 0., 0., ..., 1., 0., 0.],\n",
       "       [0., 0., 0., ..., 0., 0., 0.],\n",
       "       [0., 0., 0., ..., 0., 0., 0.],\n",
       "       ...,\n",
       "       [0., 0., 0., ..., 0., 0., 0.],\n",
       "       [0., 0., 1., ..., 0., 0., 0.],\n",
       "       [0., 1., 0., ..., 0., 0., 0.]])"
      ]
     },
     "execution_count": 8,
     "metadata": {},
     "output_type": "execute_result"
    }
   ],
   "source": [
    "enc = encoder.fit_transform(train[col_OHE])\n",
    "enc"
   ]
  },
  {
   "cell_type": "code",
   "execution_count": 9,
   "metadata": {},
   "outputs": [],
   "source": [
    "enc_or = encoder.fit_transform(origin[col_OHE])"
   ]
  },
  {
   "cell_type": "code",
   "execution_count": 10,
   "metadata": {},
   "outputs": [],
   "source": [
    "enc_data =pd.DataFrame(enc, columns=encoder.get_feature_names_out(col_OHE)) \n",
    "train = pd.concat([train, enc_data], axis=1)\n",
    "train = train.drop(col_OHE,axis=1)"
   ]
  },
  {
   "cell_type": "code",
   "execution_count": 11,
   "metadata": {},
   "outputs": [],
   "source": [
    "enc_data =pd.DataFrame(enc_or, columns=encoder.get_feature_names_out(col_OHE)) \n",
    "origin = pd.concat([origin, enc_data], axis=1)\n",
    "origin = origin.drop(col_OHE,axis=1)"
   ]
  },
  {
   "cell_type": "code",
   "execution_count": null,
   "metadata": {},
   "outputs": [],
   "source": [
    "enc_test = encoder.fit_transform(test[col_OHE])\n",
    "enc_data =pd.DataFrame(enc_test, columns=encoder.get_feature_names_out(col_OHE)) \n",
    "test = pd.concat([test, enc_data], axis=1)\n",
    "test = test.drop(col_OHE,axis=1)"
   ]
  },
  {
   "cell_type": "markdown",
   "metadata": {},
   "source": [
    "Одним из вариантов кодирования категориальных признаков является OneHot. Он пригодится в будущем, если у модели не будет встроенного энкодера. Поскольку категориальных признаков всего два, использование даного метода не сделает датасет слишком большим. И, в отличии от Label Encoder, не произведет никаких ложных зависимостей."
   ]
  },
  {
   "cell_type": "code",
   "execution_count": 66,
   "metadata": {},
   "outputs": [
    {
     "name": "stderr",
     "output_type": "stream",
     "text": [
      "C:\\Users\\Huawei\\AppData\\Local\\Temp\\ipykernel_10024\\2904415573.py:1: FutureWarning: The default value of numeric_only in DataFrame.corr is deprecated. In a future version, it will default to False. Select only valid columns or specify the value of numeric_only to silence this warning.\n",
      "  sb.heatmap(train.corr())\n"
     ]
    },
    {
     "data": {
      "text/plain": [
       "<AxesSubplot: >"
      ]
     },
     "execution_count": 66,
     "metadata": {},
     "output_type": "execute_result"
    },
    {
     "data": {
      "image/png": "[encoded data removed]",
      "text/plain": [
       "<Figure size 640x480 with 2 Axes>"
      ]
     },
     "metadata": {},
     "output_type": "display_data"
    }
   ],
   "source": [
    "sb.heatmap(train.corr())"
   ]
  },
  {
   "cell_type": "markdown",
   "metadata": {},
   "source": [
    "Если посмореть на визуализацию корреляцию между признаками, то видно, что сильной корреляции между ними нет. Т.е. нет линейно зависимых признаков."
   ]
  },
  {
   "cell_type": "code",
   "execution_count": 18,
   "metadata": {},
   "outputs": [],
   "source": [
    "cat_col = train.select_dtypes(include='object').columns.to_list()"
   ]
  },
  {
   "cell_type": "code",
   "execution_count": 19,
   "metadata": {},
   "outputs": [],
   "source": [
    "num_col = train.select_dtypes(include = 'int').columns.to_list()"
   ]
  },
  {
   "cell_type": "markdown",
   "metadata": {},
   "source": [
    "Получение списков численных и категориальных признаков."
   ]
  },
  {
   "cell_type": "code",
   "execution_count": 20,
   "metadata": {},
   "outputs": [
    {
     "data": {
      "text/plain": [
       "['Temparature', 'Humidity', 'Moisture', 'Nitrogen', 'Potassium', 'Phosphorous']"
      ]
     },
     "execution_count": 20,
     "metadata": {},
     "output_type": "execute_result"
    }
   ],
   "source": [
    "num_col"
   ]
  },
  {
   "cell_type": "markdown",
   "metadata": {},
   "source": [
    "Хоть и порядок значений в каждом признаке схожий (т.е. не будет проблемы с весами), все равно можно провести нормализацию данных."
   ]
  },
  {
   "cell_type": "code",
   "execution_count": 16,
   "metadata": {},
   "outputs": [],
   "source": [
    "scaler = StandardScaler()"
   ]
  },
  {
   "cell_type": "code",
   "execution_count": null,
   "metadata": {},
   "outputs": [],
   "source": [
    "train[num_col] = scaler.fit_transform(train[num_col])\n",
    "origin[num_col] = scaler.fit_transform(origin[num_col])\n",
    "test[num_col] = scaler.fit_transform(test[num_col])"
   ]
  },
  {
   "cell_type": "code",
   "execution_count": 23,
   "metadata": {},
   "outputs": [],
   "source": [
    "LE = LabelEncoder()"
   ]
  },
  {
   "cell_type": "code",
   "execution_count": 24,
   "metadata": {},
   "outputs": [],
   "source": [
    "X = pd.concat([train, origin], axis=0)\n",
    "Y = X['Fertilizer Name']\n",
    "X = X.drop('Fertilizer Name', axis=1)\n",
    "Y = LE.fit_transform(Y)"
   ]
  },
  {
   "cell_type": "markdown",
   "metadata": {},
   "source": [
    "К целевой переменной можно применить LabelEncoder, поскольку не во всех модель предусмтрена работа с нечисловыми классами."
   ]
  },
  {
   "cell_type": "code",
   "execution_count": 25,
   "metadata": {},
   "outputs": [],
   "source": [
    "X_train, X_test, Y_train, Y_test = train_test_split(X,Y,test_size=0.2)"
   ]
  },
  {
   "cell_type": "markdown",
   "metadata": {},
   "source": [
    "Разделение на на тестовую и обучающую выборку имеет смысл только на этапе поиска решения, поскольку финальный score в соревновании будет определяться на отдельной тестовой выборке."
   ]
  },
  {
   "cell_type": "markdown",
   "metadata": {},
   "source": [
    "Начнем с простых. Первые две модели - Логистическая регрессия и метод опорных векторов. В случае, если зависимость между таргетом и признаками имеет линейный вид, можгут быть хорошими решениеми."
   ]
  },
  {
   "cell_type": "code",
   "execution_count": null,
   "metadata": {},
   "outputs": [],
   "source": [
    "LogReg = LogisticRegression(solver='lbfgs',\n",
    "                    multi_class='multinomial', \n",
    "                    max_iter=1000)\n",
    "LogReg.fit(X_train, Y_train)\n",
    "y_pred_logreg = LogReg.predict(X_test)"
   ]
  },
  {
   "cell_type": "code",
   "execution_count": null,
   "metadata": {},
   "outputs": [],
   "source": [
    "supp = SVC(kernel='linear', max_iter=1000)\n",
    "supp.fit(X,Y)\n",
    "y_pred_supp = supp.predict(X_train,Y_train)"
   ]
  },
  {
   "cell_type": "code",
   "execution_count": null,
   "metadata": {},
   "outputs": [],
   "source": [
    "res_logreg = classification_report(Y_test, y_pred_logreg)\n",
    "print(res_logreg)"
   ]
  },
  {
   "cell_type": "code",
   "execution_count": null,
   "metadata": {},
   "outputs": [],
   "source": [
    "res_svc = classification_report(Y_test, y_pred_supp)\n",
    "print(res_svc)"
   ]
  },
  {
   "cell_type": "markdown",
   "metadata": {},
   "source": [
    "### Mean Average Precision @ 3 (MAP@3)\n",
    "\n",
    "Формула оценки:\n",
    "\n",
    "```math\n",
    "MAP@3 = \\frac{1}{U} \\sum_{u=1}^{U} \\sum_{k=1}^{\\min(n,3)} P(k) \\times rel(k)"
   ]
  },
  {
   "cell_type": "markdown",
   "metadata": {},
   "source": [
    "Логистическая регрессия показала слишком низкое качество классификации (MAP = 0.21566), как и метод опорных векторов (= 0.20057) поэтому необходимо взять другую модель. Плохое качество может говорить о том, что истинная зависимость имеет нелинейный характер."
   ]
  },
  {
   "cell_type": "markdown",
   "metadata": {},
   "source": [
    "Хорошим решением этой проблемы могут быть деревья решений. Есть смысл сразу взять самый мощный из всех подобных алгоритмов - градиентный бустинг над решающими деревьями. Для подбора гиперпаратмеров модели воспользуемся кросс-валидацией kFold и поиском RandomSearch. "
   ]
  },
  {
   "cell_type": "code",
   "execution_count": 26,
   "metadata": {},
   "outputs": [],
   "source": [
    "kFold = KFold(n_splits=5, shuffle=True, random_state=42)"
   ]
  },
  {
   "cell_type": "code",
   "execution_count": null,
   "metadata": {},
   "outputs": [],
   "source": [
    "model_xgb = xg.XGBClassifier(\n",
    "    object = 'multi:softprob',\n",
    "    num_class = len(np.unique(Y)),\n",
    "    random_state=42,\n",
    "    eval_metric='mlogloss',\n",
    "    device='cuda',\n",
    "    tree_method='hist',\n",
    ")"
   ]
  },
  {
   "cell_type": "code",
   "execution_count": null,
   "metadata": {},
   "outputs": [],
   "source": [
    "param_xgb = {\n",
    "    'max_depth': randint(2,15),\n",
    "    'learning_rate': uniform(0.01, 0.1),\n",
    "    'n_estimators': randint(2000, 10000),\n",
    "    'subsample': uniform(0.2,1),\n",
    "    'colsample_bytree': uniform(0.2,1),\n",
    "    'gamma': uniform(0.2,1)\n",
    "}"
   ]
  },
  {
   "cell_type": "code",
   "execution_count": null,
   "metadata": {},
   "outputs": [],
   "source": [
    "random_search = RandomizedSearchCV(\n",
    "    estimator=model_xgb,\n",
    "    param_distributions=param_xgb,\n",
    "    cv=kFold,\n",
    "    scoring='f1_macro',\n",
    "    random_state=42,\n",
    "    n_jobs=-1\n",
    ")\n",
    "\n",
    "random_search.fit(X_train, Y_train)"
   ]
  },
  {
   "cell_type": "markdown",
   "metadata": {},
   "source": [
    "Вообще можно было использовать всю выборку для поиска, поскольку даже если модель получит какие то \"знания\" о тестовой выборке, то это никак не отразится на выборке, на которой будет считаться финальный score."
   ]
  },
  {
   "cell_type": "code",
   "execution_count": null,
   "metadata": {},
   "outputs": [],
   "source": [
    "xgb_model = xg.XGBClassifier(\n",
    "    objective='multi:softprob',\n",
    "    num_class=len(np.unique(Y)),\n",
    "    learning_rate=0.03,\n",
    "    max_depth=8,\n",
    "    n_estimators=10000,\n",
    "    subsample=0.8,\n",
    "    colsample_bytree=0.45,\n",
    "    random_state=42,\n",
    "    eval_metric='mlogloss',\n",
    "    device='cuda',\n",
    "    tree_method='hist'\n",
    ")\n",
    "xgb_model.fit(X_train, Y_train)\n",
    "y_pred_xgb = xgb_model.predict(X_test)\n",
    "res_xgb = classification_report(Y_test, y_pred_xgb)\n",
    "print(res_xgb)"
   ]
  },
  {
   "cell_type": "markdown",
   "metadata": {},
   "source": [
    "Градиентный бустинг XGBoost дал score сильно лучше (=0.35510), чем логистическая регрессия. Возможные улучшения: добавление признаков, использование анасамбля бустингов (бэггинг, стэкинг)."
   ]
  },
  {
   "cell_type": "markdown",
   "metadata": {},
   "source": [
    "В качестве преобразования признаков будет использоваться полинимиальное преобразование (полином степени 2). Это позволить внести неленейные зависимости."
   ]
  },
  {
   "cell_type": "code",
   "execution_count": null,
   "metadata": {},
   "outputs": [],
   "source": [
    "poly = PolynomialFeatures(degree=2, include_bias=False)\n",
    "train_poly = pd.DataFrame(poly.fit_transform(train[num_col]),\n",
    "                        columns=poly.get_feature_names_out(num_col), \n",
    "                      index=train.index)\n",
    "train = pd.concat([train_poly, train[cat_col]], axis=1)\n",
    "origin_poly = pd.DataFrame(poly.fit_transform(origin[num_col]),\n",
    "                        columns=poly.get_feature_names_out(num_col), \n",
    "                      index=origin.index)\n",
    "origin = pd.concat([origin_poly, origin[cat_col]], axis=1)\n",
    "test_poly = pd.DataFrame(poly.fit_transform(test[num_col]),\n",
    "                        columns=poly.get_feature_names_out(num_col), \n",
    "                      index=origin.index)\n",
    "test = pd.concat([test_poly, test[cat_col]], axis=1)"
   ]
  },
  {
   "cell_type": "code",
   "execution_count": null,
   "metadata": {},
   "outputs": [],
   "source": [
    "X = pd.concat([train, origin], axis=0)\n",
    "Y = X['Fertilizer Name']\n",
    "X = X.drop('Fertilizer Name', axis=1)\n",
    "Y = LE.fit_transform(Y)"
   ]
  },
  {
   "cell_type": "code",
   "execution_count": null,
   "metadata": {},
   "outputs": [],
   "source": [
    "X_train, X_test, Y_train, Y_test = train_test_split(X,Y,test_size=0.2)"
   ]
  },
  {
   "cell_type": "markdown",
   "metadata": {},
   "source": [
    "Далее произведем стекинг, где в качестве базовых моделей: XGBoost, LGBM, логистическая регрессия. В качестве метамодели: XGBoost."
   ]
  },
  {
   "cell_type": "code",
   "execution_count": 29,
   "metadata": {},
   "outputs": [],
   "source": [
    "estimators = [\n",
    "    ('xgb_1', xg.XGBClassifier(\n",
    "        max_depth=7,\n",
    "        colsample_bytree=0.4,\n",
    "        subsample=0.8,\n",
    "        n_estimators=5000,\n",
    "        learning_rate=0.01,\n",
    "        gamma=0.26,\n",
    "        max_delta_step=4,\n",
    "        reg_alpha=2.7,\n",
    "        reg_lambda=1.4,\n",
    "        objective='multi:softprob',\n",
    "        random_state=13,\n",
    "        enable_categorical=True,\n",
    "        tree_method='hist',\n",
    "        device='cuda'\n",
    "    )),\n",
    "    ('lr', LogisticRegression(\n",
    "        C=1e-2,\n",
    "        max_iter=3000,\n",
    "        random_state=0\n",
    "    )),\n",
    "    ('lgbm', lgb.LGBMClassifier(\n",
    "        learning_rate=0.028305385633320197,\n",
    "        num_leaves=156,\n",
    "        max_depth=11,\n",
    "        min_child_samples=79,\n",
    "        subsample=0.7918343506574987,\n",
    "        colsample_bytree=0.5091819990144888,\n",
    "        reg_alpha=2.978706459636553,\n",
    "        reg_lambda=6.8587096602092865,\n",
    "        device='gpu' \n",
    "    ))\n",
    "]"
   ]
  },
  {
   "cell_type": "code",
   "execution_count": null,
   "metadata": {},
   "outputs": [],
   "source": [
    "meta_model = xg.XGBClassifier(\n",
    "    objective='multi:softprob',\n",
    "    num_class=len(np.unique(Y)),\n",
    "    learning_rate=0.03,\n",
    "    max_depth=8,\n",
    "    n_estimators=10000,\n",
    "    subsample=0.8,\n",
    "    colsample_bytree=0.45,\n",
    "    random_state=42,\n",
    "    eval_metric='mlogloss',\n",
    "    device='cuda',\n",
    "    tree_method='hist',\n",
    "    early_stopping_rounds=100\n",
    ")"
   ]
  },
  {
   "cell_type": "code",
   "execution_count": null,
   "metadata": {},
   "outputs": [],
   "source": [
    "stack = StackingClassifier(estimators=estimators,\n",
    "                           final_estimator=meta_model,\n",
    "                           cv = 5,\n",
    "                           stack_method='predict_proba',\n",
    "                           n_jobs=-1\n",
    "                           )\n",
    "stack.fit(X_train, Y_train)\n",
    "y_pred_stack = stack.predict(X_train, Y_train)"
   ]
  },
  {
   "cell_type": "markdown",
   "metadata": {},
   "source": [
    "Стэкинг не дал сильно преимущества в score (= 0.35734). Это может говорить о том, что алгоритм градиентного бустинга уже достаточно хорошо справляется с данной задачей, поэтому не стоит так усложнять подход."
   ]
  },
  {
   "cell_type": "markdown",
   "metadata": {},
   "source": [
    "Последней моделью будет бэггинг XGBoost, LGBM и CatBoost. Поскольку сами по себе эти алгоритмы хорошо предсказывают целевые классы (низкий bias), бэггинг поможет снизить дисперсию по выборке, что может улучшить скор."
   ]
  },
  {
   "cell_type": "code",
   "execution_count": null,
   "metadata": {},
   "outputs": [],
   "source": [
    "X = pd.concat([train, origin], axis=0)\n",
    "Y = X['Fertilizer Name']\n",
    "X = X.drop('Fertilizer Name', axis=1)\n",
    "Y = LE.fit_transform(Y)\n",
    "\n",
    "X_test = test"
   ]
  },
  {
   "cell_type": "code",
   "execution_count": 69,
   "metadata": {},
   "outputs": [],
   "source": [
    "def kfold_LGBM(X_train, y_train_str, X_test, n_splits=5):\n",
    "    y_train = LE.fit_transform(y_train_str)\n",
    "\n",
    "    test_proba_folds = []\n",
    "\n",
    "    kf = KFold(n_splits=n_splits, shuffle=True, random_state=42)\n",
    "\n",
    "    for train_idx, val_idx in kf.split(X_train, y_train):\n",
    "        X_tr, y_tr = X_train.iloc[train_idx], y_train[train_idx]\n",
    "        X_val, y_val = X_train.iloc[val_idx], y_train[val_idx]\n",
    "\n",
    "        model = lgb.LGBMClassifier(\n",
    "            learning_rate=0.028305385633320197,\n",
    "            num_leaves=156,\n",
    "            max_depth=11,\n",
    "            min_child_samples=79,\n",
    "            subsample=0.7918343506574987,\n",
    "            colsample_bytree=0.5091819990144888,\n",
    "            reg_alpha=2.978706459636553,\n",
    "            reg_lambda=6.8587096602092865,\n",
    "            device='gpu' \n",
    "        )\n",
    "        model.fit(X_tr, y_tr, eval_set=[(X_val, y_val)],\n",
    "                  callbacks=[lgb.early_stopping(100, verbose=False)])\n",
    "        \n",
    "        test_proba = model.predict_proba(X_test)\n",
    "        test_proba_folds.append(test_proba)\n",
    "\n",
    "    avg_test_proba = np.mean(test_proba_folds, axis=0)\n",
    "\n",
    "    final_preds_int = np.argmax(avg_test_proba, axis=1)\n",
    "    final_preds_str = LE.inverse_transform(final_preds_int)\n",
    "\n",
    "    top_3_preds = np.argsort(avg_test_proba, axis=1)[:, -3:][:, ::-1]\n",
    "    top_3_labels = LE.inverse_transform(top_3_preds.ravel()).reshape(top_3_preds.shape)\n",
    "\n",
    "    return top_3_labels, avg_test_proba, LE"
   ]
  },
  {
   "cell_type": "code",
   "execution_count": null,
   "metadata": {},
   "outputs": [],
   "source": [
    "def kfold_XGB(X_train, y_train_str, X_test, n_splits=5):\n",
    "    y_train = LE.fit_transform(y_train_str)\n",
    "\n",
    "    test_proba_folds = []\n",
    "\n",
    "    kf = KFold(n_splits=n_splits, shuffle=True, random_state=42)\n",
    "\n",
    "    for train_idx, val_idx in kf.split(X_train, y_train):\n",
    "        X_tr, y_tr = X_train.iloc[train_idx], y_train[train_idx]\n",
    "        X_val, y_val = X_train.iloc[val_idx], y_train[val_idx]\n",
    "\n",
    "        model = xg.XGBClassifier(\n",
    "            max_depth=7,\n",
    "            colsample_bytree=0.4,\n",
    "            subsample=0.8,\n",
    "            n_estimators=5000,\n",
    "            learning_rate=0.01,\n",
    "            gamma=0.26,\n",
    "            max_delta_step=4,\n",
    "            reg_alpha=2.7,\n",
    "            reg_lambda=1.4,\n",
    "            objective='multi:softprob',\n",
    "            random_state=13,\n",
    "            enable_categorical=True,\n",
    "            early_stopping_rounds=150,\n",
    "            tree_method='hist',\n",
    "            device='cuda'  \n",
    "        )\n",
    "        model.fit(X_tr, y_tr, \n",
    "                  eval_set=[(X_val, y_val)], \n",
    "                  verbose=100\n",
    "                )\n",
    "\n",
    "        test_proba = model.predict_proba(X_test)\n",
    "        test_proba_folds.append(test_proba)\n",
    "\n",
    "    avg_test_proba = np.mean(test_proba_folds, axis=0)\n",
    "\n",
    "    final_preds_int = np.argmax(avg_test_proba, axis=1)\n",
    "    final_preds_str = LE.inverse_transform(final_preds_int)\n",
    "\n",
    "    top_3_preds = np.argsort(avg_test_proba, axis=1)[:, -3:][:, ::-1]\n",
    "    top_3_labels = LE.inverse_transform(top_3_preds.ravel()).reshape(top_3_preds.shape)\n",
    "\n",
    "    return top_3_labels, avg_test_proba, LE"
   ]
  },
  {
   "cell_type": "code",
   "execution_count": null,
   "metadata": {},
   "outputs": [],
   "source": [
    "from catboost import CatBoostClassifier\n",
    "\n",
    "def kfold_CatBoost(X_train, y_train_str, X_test, n_splits=5):\n",
    "    y_train = LE.fit_transform(y_train_str)\n",
    "    test_proba_folds = []\n",
    "\n",
    "    kf = KFold(n_splits=n_splits, shuffle=True, random_state=42)\n",
    "\n",
    "    for train_idx, val_idx in kf.split(X_train, y_train):\n",
    "        X_tr, y_tr = X_train.iloc[train_idx], y_train[train_idx]\n",
    "        X_val, y_val = X_train.iloc[val_idx], y_train[val_idx]\n",
    "\n",
    "        model = CatBoostClassifier(\n",
    "            loss_function='MultiClass',\n",
    "            eval_metric='MultiClass',\n",
    "            max_depth=8,\n",
    "            learning_rate=0.1,\n",
    "            colsample_bylevel=1,\n",
    "            random_state=42,\n",
    "            verbose=100,\n",
    "            early_stopping_rounds=100,\n",
    "            n_estimators=5000,\n",
    "            l2_leaf_reg=0.12185512372394472,\n",
    "            bagging_temperature=0.2119744763488629,\n",
    "            min_data_in_leaf=2\n",
    "            task_type=\"GPU\"\n",
    "        )\n",
    "\n",
    "        model.fit(\n",
    "            X_tr, y_tr,\n",
    "            eval_set=(X_val, y_val),\n",
    "            use_best_model=True\n",
    "        )\n",
    "\n",
    "        test_proba = model.predict_proba(X_test)\n",
    "        test_proba_folds.append(test_proba)\n",
    "\n",
    "    avg_test_proba = np.mean(test_proba_folds, axis=0)\n",
    "\n",
    "    final_preds_int = np.argmax(avg_test_proba, axis=1)\n",
    "    final_preds_str = LE.inverse_transform(final_preds_int)\n",
    "\n",
    "    # Топ-3 класса по вероятностям\n",
    "    top_3_preds = np.argsort(avg_test_proba, axis=1)[:, -3:][:, ::-1]\n",
    "    top_3_labels = LE.inverse_transform(top_3_preds.ravel()).reshape(top_3_preds.shape)\n",
    "\n",
    "    return top_3_labels, avg_test_proba, LE"
   ]
  },
  {
   "cell_type": "code",
   "execution_count": null,
   "metadata": {},
   "outputs": [],
   "source": [
    "labels_CAT, proba_cat, le_cat = kfold_CatBoost(X, Y, X_test)\n",
    "labels_LGBM, proba_lgbm, le_lgbm = kfold_LGBM(X, Y, X_test)\n",
    "labels_XGB, proba_xgb, le_xgb = kfold_XGB(X, Y, X_test)"
   ]
  },
  {
   "cell_type": "code",
   "execution_count": null,
   "metadata": {},
   "outputs": [],
   "source": [
    "avg_proba = (proba_lgbm + proba_xgb + proba_cat) / 3\n",
    "top_3_preds = np.argsort(avg_proba, axis=1)[:, -3:][:, ::-1]\n",
    "top_3_labels = le_lgbm.inverse_transform(top_3_preds.ravel()).reshape(top_3_preds.shape)"
   ]
  },
  {
   "cell_type": "code",
   "execution_count": null,
   "metadata": {},
   "outputs": [],
   "source": [
    "test_ids = test['id']\n",
    "    \n",
    "submission_df = pd.DataFrame({\n",
    "    'id': test_ids,\n",
    "    'Fertilizer Name': [' '.join(preds) for preds in top_3_labels]\n",
    "})\n",
    "submission_df.to_csv('submission.csv', index=False)"
   ]
  },
  {
   "cell_type": "markdown",
   "metadata": {},
   "source": [
    "Как итог, последний подход дал самое высокое значение скора (0.35838). Эта версия модели останется в качестве используемой для соревнования."
   ]
  }
 ],
 "metadata": {
  "kernelspec": {
   "display_name": "Python 3",
   "language": "python",
   "name": "python3"
  },
  "language_info": {
   "codemirror_mode": {
    "name": "ipython",
    "version": 3
   },
   "file_extension": ".py",
   "mimetype": "text/x-python",
   "name": "python",
   "nbconvert_exporter": "python",
   "pygments_lexer": "ipython3",
   "version": "3.11.1"
  }
 },
 "nbformat": 4,
 "nbformat_minor": 2
}
